{
 "cells": [
  {
   "cell_type": "markdown",
   "metadata": {},
   "source": [
    "### Data Collection"
   ]
  },
  {
   "cell_type": "markdown",
   "metadata": {},
   "source": [
    "### PREFACE"
   ]
  },
  {
   "cell_type": "code",
   "execution_count": 7,
   "metadata": {},
   "outputs": [],
   "source": [
    "#import libraries\n",
    "import requests\n",
    "import pandas as pd\n",
    "import time\n",
    "import random\n",
    "from IPython.display import display, Markdown\n"
   ]
  },
  {
   "cell_type": "code",
   "execution_count": 12,
   "metadata": {},
   "outputs": [],
   "source": [
    "# function to save web scrapes to individual files\n",
    "\n",
    "def save_df_to_csv(df, subreddit):\n",
    "    timestr = time.strftime('%Y%m%d_%H%M%S')\n",
    "    fpath = './data/' + subreddit + '_2_' + timestr + '.csv'\n",
    "    df.to_csv(fpath, index=False)\n",
    "\n",
    "\n",
    "def scrape_data(url,after):\n",
    "\n",
    "    headers = headers={'User-agent': 'peecee Bot 0.1'}\n",
    "    posts = []\n",
    "    i = 1\n",
    "    for _ in range(10):\n",
    "        if after == None:  # If after == None, scrape first page\n",
    "            params = {}\n",
    "        else:  # If there are more posts to scrape, set params = after\n",
    "            params = {'after': after}\n",
    "        res = requests.get(url, params=params, headers=headers)\n",
    "        if res.status_code == 200:  # Check if status code == 200\n",
    "            data = res.json()\n",
    "            posts.extend(data['data']['children'])\n",
    "            after = data['data']['after']\n",
    "        else:\n",
    "            print(\"Problem with request!\")\n",
    "            break\n",
    "        print(after)\n",
    "\n",
    "        display(Markdown(f'<p style=\"font-family:courier;\"><b>{i}/10:</b> Scraped {len(data[\"data\"][\"children\"])}</p>'))\n",
    "        i += 1\n",
    "        # Set timeout to 3 to prevent being blocked by reddit\n",
    "        time.sleep(3)\n",
    "        # Display success when scraping is complete\n",
    "        print(f'Scraped {len(posts)} posts from {url}')\n",
    "\n",
    "    return posts\n",
    "                         \n",
    "                       \n"
   ]
  },
  {
   "cell_type": "code",
   "execution_count": 13,
   "metadata": {},
   "outputs": [
    {
     "name": "stdout",
     "output_type": "stream",
     "text": [
      "t3_ffd2e5\n"
     ]
    },
    {
     "data": {
      "text/markdown": [
       "<p style=\"font-family:courier;\"><b>1/10:</b> Scraped 100</p>"
      ],
      "text/plain": [
       "<IPython.core.display.Markdown object>"
      ]
     },
     "metadata": {},
     "output_type": "display_data"
    },
    {
     "name": "stdout",
     "output_type": "stream",
     "text": [
      "Scraped 100 posts from https://www.reddit.com/r/scifimovies/hot.json?limit=100\n",
      "t3_9imo8g\n"
     ]
    },
    {
     "data": {
      "text/markdown": [
       "<p style=\"font-family:courier;\"><b>2/10:</b> Scraped 100</p>"
      ],
      "text/plain": [
       "<IPython.core.display.Markdown object>"
      ]
     },
     "metadata": {},
     "output_type": "display_data"
    },
    {
     "name": "stdout",
     "output_type": "stream",
     "text": [
      "Scraped 200 posts from https://www.reddit.com/r/scifimovies/hot.json?limit=100\n",
      "t3_5zdtsq\n"
     ]
    },
    {
     "data": {
      "text/markdown": [
       "<p style=\"font-family:courier;\"><b>3/10:</b> Scraped 100</p>"
      ],
      "text/plain": [
       "<IPython.core.display.Markdown object>"
      ]
     },
     "metadata": {},
     "output_type": "display_data"
    },
    {
     "name": "stdout",
     "output_type": "stream",
     "text": [
      "Scraped 300 posts from https://www.reddit.com/r/scifimovies/hot.json?limit=100\n",
      "None\n"
     ]
    },
    {
     "data": {
      "text/markdown": [
       "<p style=\"font-family:courier;\"><b>4/10:</b> Scraped 52</p>"
      ],
      "text/plain": [
       "<IPython.core.display.Markdown object>"
      ]
     },
     "metadata": {},
     "output_type": "display_data"
    },
    {
     "name": "stdout",
     "output_type": "stream",
     "text": [
      "Scraped 352 posts from https://www.reddit.com/r/scifimovies/hot.json?limit=100\n",
      "t3_ffd2e5\n"
     ]
    },
    {
     "data": {
      "text/markdown": [
       "<p style=\"font-family:courier;\"><b>5/10:</b> Scraped 100</p>"
      ],
      "text/plain": [
       "<IPython.core.display.Markdown object>"
      ]
     },
     "metadata": {},
     "output_type": "display_data"
    },
    {
     "name": "stdout",
     "output_type": "stream",
     "text": [
      "Scraped 452 posts from https://www.reddit.com/r/scifimovies/hot.json?limit=100\n",
      "t3_9imo8g\n"
     ]
    },
    {
     "data": {
      "text/markdown": [
       "<p style=\"font-family:courier;\"><b>6/10:</b> Scraped 100</p>"
      ],
      "text/plain": [
       "<IPython.core.display.Markdown object>"
      ]
     },
     "metadata": {},
     "output_type": "display_data"
    },
    {
     "name": "stdout",
     "output_type": "stream",
     "text": [
      "Scraped 552 posts from https://www.reddit.com/r/scifimovies/hot.json?limit=100\n",
      "t3_5zdtsq\n"
     ]
    },
    {
     "data": {
      "text/markdown": [
       "<p style=\"font-family:courier;\"><b>7/10:</b> Scraped 100</p>"
      ],
      "text/plain": [
       "<IPython.core.display.Markdown object>"
      ]
     },
     "metadata": {},
     "output_type": "display_data"
    },
    {
     "name": "stdout",
     "output_type": "stream",
     "text": [
      "Scraped 652 posts from https://www.reddit.com/r/scifimovies/hot.json?limit=100\n",
      "None\n"
     ]
    },
    {
     "data": {
      "text/markdown": [
       "<p style=\"font-family:courier;\"><b>8/10:</b> Scraped 52</p>"
      ],
      "text/plain": [
       "<IPython.core.display.Markdown object>"
      ]
     },
     "metadata": {},
     "output_type": "display_data"
    },
    {
     "name": "stdout",
     "output_type": "stream",
     "text": [
      "Scraped 704 posts from https://www.reddit.com/r/scifimovies/hot.json?limit=100\n",
      "t3_ffd2e5\n"
     ]
    },
    {
     "data": {
      "text/markdown": [
       "<p style=\"font-family:courier;\"><b>9/10:</b> Scraped 100</p>"
      ],
      "text/plain": [
       "<IPython.core.display.Markdown object>"
      ]
     },
     "metadata": {},
     "output_type": "display_data"
    },
    {
     "name": "stdout",
     "output_type": "stream",
     "text": [
      "Scraped 804 posts from https://www.reddit.com/r/scifimovies/hot.json?limit=100\n",
      "t3_9imo8g\n"
     ]
    },
    {
     "data": {
      "text/markdown": [
       "<p style=\"font-family:courier;\"><b>10/10:</b> Scraped 100</p>"
      ],
      "text/plain": [
       "<IPython.core.display.Markdown object>"
      ]
     },
     "metadata": {},
     "output_type": "display_data"
    },
    {
     "name": "stdout",
     "output_type": "stream",
     "text": [
      "Scraped 904 posts from https://www.reddit.com/r/scifimovies/hot.json?limit=100\n"
     ]
    }
   ],
   "source": [
    "# Scrape posts following 'after' from the first URL \n",
    "# Place them in a dataframe\n",
    "# Export to a file\n",
    "\n",
    "after = None              \n",
    "url_scifi = \"https://www.reddit.com/r/scifimovies/hot.json?limit=100\"\n",
    "scrape_scifi = scrape_data(url_scifi, after)\n",
    "posts_scifi = []\n",
    "for i in range(len(scrape_scifi)):\n",
    "    posts_scifi.append(scrape_scifi[i]['data'])\n",
    "df_scifi = pd.DataFrame(posts_scifi)\n",
    "#df_scifi.drop_duplicates(subset='title', inplace=True)\n",
    "save_df_to_csv(df_scifi,'scifimovies')"
   ]
  },
  {
   "cell_type": "code",
   "execution_count": 14,
   "metadata": {},
   "outputs": [
    {
     "name": "stdout",
     "output_type": "stream",
     "text": [
      "t3_h0bubb\n"
     ]
    },
    {
     "data": {
      "text/markdown": [
       "<p style=\"font-family:courier;\"><b>1/10:</b> Scraped 102</p>"
      ],
      "text/plain": [
       "<IPython.core.display.Markdown object>"
      ]
     },
     "metadata": {},
     "output_type": "display_data"
    },
    {
     "name": "stdout",
     "output_type": "stream",
     "text": [
      "Scraped 102 posts from https://www.reddit.com/r/HorrorMovies/hot.json?limit=100\n",
      "t3_gf52dl\n"
     ]
    },
    {
     "data": {
      "text/markdown": [
       "<p style=\"font-family:courier;\"><b>2/10:</b> Scraped 100</p>"
      ],
      "text/plain": [
       "<IPython.core.display.Markdown object>"
      ]
     },
     "metadata": {},
     "output_type": "display_data"
    },
    {
     "name": "stdout",
     "output_type": "stream",
     "text": [
      "Scraped 202 posts from https://www.reddit.com/r/HorrorMovies/hot.json?limit=100\n",
      "t3_g6sccz\n"
     ]
    },
    {
     "data": {
      "text/markdown": [
       "<p style=\"font-family:courier;\"><b>3/10:</b> Scraped 100</p>"
      ],
      "text/plain": [
       "<IPython.core.display.Markdown object>"
      ]
     },
     "metadata": {},
     "output_type": "display_data"
    },
    {
     "name": "stdout",
     "output_type": "stream",
     "text": [
      "Scraped 302 posts from https://www.reddit.com/r/HorrorMovies/hot.json?limit=100\n",
      "t3_fzqa50\n"
     ]
    },
    {
     "data": {
      "text/markdown": [
       "<p style=\"font-family:courier;\"><b>4/10:</b> Scraped 100</p>"
      ],
      "text/plain": [
       "<IPython.core.display.Markdown object>"
      ]
     },
     "metadata": {},
     "output_type": "display_data"
    },
    {
     "name": "stdout",
     "output_type": "stream",
     "text": [
      "Scraped 402 posts from https://www.reddit.com/r/HorrorMovies/hot.json?limit=100\n",
      "t3_fnqvvo\n"
     ]
    },
    {
     "data": {
      "text/markdown": [
       "<p style=\"font-family:courier;\"><b>5/10:</b> Scraped 100</p>"
      ],
      "text/plain": [
       "<IPython.core.display.Markdown object>"
      ]
     },
     "metadata": {},
     "output_type": "display_data"
    },
    {
     "name": "stdout",
     "output_type": "stream",
     "text": [
      "Scraped 502 posts from https://www.reddit.com/r/HorrorMovies/hot.json?limit=100\n",
      "t3_f59f0s\n"
     ]
    },
    {
     "data": {
      "text/markdown": [
       "<p style=\"font-family:courier;\"><b>6/10:</b> Scraped 100</p>"
      ],
      "text/plain": [
       "<IPython.core.display.Markdown object>"
      ]
     },
     "metadata": {},
     "output_type": "display_data"
    },
    {
     "name": "stdout",
     "output_type": "stream",
     "text": [
      "Scraped 602 posts from https://www.reddit.com/r/HorrorMovies/hot.json?limit=100\n",
      "t3_ehghfn\n"
     ]
    },
    {
     "data": {
      "text/markdown": [
       "<p style=\"font-family:courier;\"><b>7/10:</b> Scraped 100</p>"
      ],
      "text/plain": [
       "<IPython.core.display.Markdown object>"
      ]
     },
     "metadata": {},
     "output_type": "display_data"
    },
    {
     "name": "stdout",
     "output_type": "stream",
     "text": [
      "Scraped 702 posts from https://www.reddit.com/r/HorrorMovies/hot.json?limit=100\n",
      "t3_9wqi1m\n"
     ]
    },
    {
     "data": {
      "text/markdown": [
       "<p style=\"font-family:courier;\"><b>8/10:</b> Scraped 100</p>"
      ],
      "text/plain": [
       "<IPython.core.display.Markdown object>"
      ]
     },
     "metadata": {},
     "output_type": "display_data"
    },
    {
     "name": "stdout",
     "output_type": "stream",
     "text": [
      "Scraped 802 posts from https://www.reddit.com/r/HorrorMovies/hot.json?limit=100\n",
      "None\n"
     ]
    },
    {
     "data": {
      "text/markdown": [
       "<p style=\"font-family:courier;\"><b>9/10:</b> Scraped 93</p>"
      ],
      "text/plain": [
       "<IPython.core.display.Markdown object>"
      ]
     },
     "metadata": {},
     "output_type": "display_data"
    },
    {
     "name": "stdout",
     "output_type": "stream",
     "text": [
      "Scraped 895 posts from https://www.reddit.com/r/HorrorMovies/hot.json?limit=100\n",
      "t3_h0bubb\n"
     ]
    },
    {
     "data": {
      "text/markdown": [
       "<p style=\"font-family:courier;\"><b>10/10:</b> Scraped 102</p>"
      ],
      "text/plain": [
       "<IPython.core.display.Markdown object>"
      ]
     },
     "metadata": {},
     "output_type": "display_data"
    },
    {
     "name": "stdout",
     "output_type": "stream",
     "text": [
      "Scraped 997 posts from https://www.reddit.com/r/HorrorMovies/hot.json?limit=100\n"
     ]
    }
   ],
   "source": [
    "after = None \n",
    "url_horror = \"https://www.reddit.com/r/HorrorMovies/hot.json?limit=100\"\n",
    "scrape_horror = scrape_data(url_horror, after)\n",
    "posts_horror = []\n",
    "for i in range(len(scrape_horror)):\n",
    "    posts_horror.append(scrape_horror[i]['data'])\n",
    "df_horror = pd.DataFrame(posts_horror)\n",
    "#df_horror.drop_duplicates(subset='title', inplace=True)\n",
    "save_df_to_csv(df_horror,'horrormovies')"
   ]
  },
  {
   "cell_type": "code",
   "execution_count": null,
   "metadata": {},
   "outputs": [],
   "source": [
    "Functions"
   ]
  },
  {
   "cell_type": "code",
   "execution_count": null,
   "metadata": {},
   "outputs": [],
   "source": [
    "limitation:\n",
    "\n",
    "recom:\n",
    "    obtain more data\n",
    "    consider to train the nodel f\n",
    "    data aquition \n",
    "    \n",
    "take away\n",
    "accurately pedicts the model\n",
    "\n",
    "\n",
    "the horror is less are less descriptive\n",
    "synopsysu"
   ]
  }
 ],
 "metadata": {
  "kernelspec": {
   "display_name": "Python 3",
   "language": "python",
   "name": "python3"
  },
  "language_info": {
   "codemirror_mode": {
    "name": "ipython",
    "version": 3
   },
   "file_extension": ".py",
   "mimetype": "text/x-python",
   "name": "python",
   "nbconvert_exporter": "python",
   "pygments_lexer": "ipython3",
   "version": "3.7.4"
  }
 },
 "nbformat": 4,
 "nbformat_minor": 2
}
